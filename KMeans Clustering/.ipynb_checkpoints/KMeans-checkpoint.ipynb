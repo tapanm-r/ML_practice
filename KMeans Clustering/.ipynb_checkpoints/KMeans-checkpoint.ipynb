{
 "cells": [
  {
   "cell_type": "code",
   "execution_count": null,
   "metadata": {},
   "outputs": [],
   "source": [
    "import numpy as np\n",
    "import pandas as pd\n",
    "import matplotlib.pyplot as plt\n",
    "%matplotlib inline"
   ]
  },
  {
   "cell_type": "code",
   "execution_count": null,
   "metadata": {},
   "outputs": [],
   "source": [
    "# with open(\"s1.txt\", \"r\") as f:\n",
    "#     lines = f.readlines()\n",
    "#     data = []\n",
    "#     for line in lines:\n",
    "#         arr = list(map(float, line.strip().split(\"   \")))\n",
    "#         data.append(arr)\n",
    "\n",
    "# data = np.array(data)\n",
    "\n",
    "data = pd.read_csv(\"s1.txt\", sep=\"    \", header=None, names=('x', 'y'), engine=\"python\")\n",
    "data.info()"
   ]
  },
  {
   "cell_type": "code",
   "execution_count": null,
   "metadata": {},
   "outputs": [],
   "source": [
    "data.head()"
   ]
  },
  {
   "cell_type": "code",
   "execution_count": null,
   "metadata": {
    "scrolled": true
   },
   "outputs": [],
   "source": [
    "plt.scatter(data['x'], data['y'], s=5)"
   ]
  },
  {
   "cell_type": "code",
   "execution_count": null,
   "metadata": {},
   "outputs": [],
   "source": [
    "m = len(data)\n",
    "\n",
    "X = data.to_numpy()"
   ]
  },
  {
   "cell_type": "code",
   "execution_count": null,
   "metadata": {},
   "outputs": [],
   "source": [
    "def KMeans(X, k):\n",
    "    m = X.shape[0]\n",
    "    \n",
    "    index = np.random.choice(m, k)\n",
    "    means = X[index]\n",
    "    \n",
    "    clusters = [[] for i in range(k)]\n",
    "    \n",
    "    for _ in range(1000):        \n",
    "        clusters = [[] for i in range(k)]\n",
    "        \n",
    "        for i in range(k):\n",
    "            clusters[i].append(means[i])\n",
    "        \n",
    "        for i in range(m):\n",
    "            dist = []\n",
    "            for j in range(k):\n",
    "                d = np.linalg.norm(X[i] - means[j])\n",
    "                dist.append(d)\n",
    "    \n",
    "            idx = dist.index(min(dist))\n",
    "            clusters[idx].append(X[i])\n",
    "        \n",
    "        for i in range(k):\n",
    "            c = np.sum(clusters[i], axis = 0) / len(clusters[i])\n",
    "            means[i] = c\n",
    "\n",
    "    return means, clusters"
   ]
  },
  {
   "cell_type": "code",
   "execution_count": null,
   "metadata": {},
   "outputs": [],
   "source": [
    "k = 15\n",
    "\n",
    "means, clusters = KMeans(X, k)"
   ]
  },
  {
   "cell_type": "code",
   "execution_count": null,
   "metadata": {},
   "outputs": [],
   "source": []
  }
 ],
 "metadata": {
  "kernelspec": {
   "display_name": "Python 3",
   "language": "python",
   "name": "python3"
  },
  "language_info": {
   "codemirror_mode": {
    "name": "ipython",
    "version": 3
   },
   "file_extension": ".py",
   "mimetype": "text/x-python",
   "name": "python",
   "nbconvert_exporter": "python",
   "pygments_lexer": "ipython3",
   "version": "3.6.8"
  }
 },
 "nbformat": 4,
 "nbformat_minor": 2
}
