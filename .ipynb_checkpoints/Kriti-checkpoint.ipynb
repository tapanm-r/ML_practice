{
 "cells": [
  {
   "cell_type": "code",
   "execution_count": 1,
   "metadata": {},
   "outputs": [],
   "source": [
    "import numpy as np\n",
    "import pandas as pd\n",
    "import matplotlib.pyplot as plt\n",
    "%matplotlib inline"
   ]
  },
  {
   "cell_type": "code",
   "execution_count": 2,
   "metadata": {},
   "outputs": [],
   "source": [
    "data = pd.read_csv('training_data.csv')"
   ]
  },
  {
   "cell_type": "code",
   "execution_count": 3,
   "metadata": {},
   "outputs": [
    {
     "name": "stdout",
     "output_type": "stream",
     "text": [
      "<class 'pandas.core.frame.DataFrame'>\n",
      "RangeIndex: 3000 entries, 0 to 2999\n",
      "Data columns (total 36 columns):\n",
      "Unnamed: 0               3000 non-null int64\n",
      "ID                       3000 non-null int64\n",
      "Salary                   3000 non-null int64\n",
      "JobCity                  3000 non-null object\n",
      "Gender                   3000 non-null object\n",
      "DOB                      3000 non-null object\n",
      "10percentage             2808 non-null float64\n",
      "10board                  3000 non-null object\n",
      "12graduation             2555 non-null float64\n",
      "12percentage             3000 non-null float64\n",
      "12board                  3000 non-null object\n",
      "CollegeID                3000 non-null int64\n",
      "CollegeTier              3000 non-null int64\n",
      "Degree                   3000 non-null object\n",
      "Specialization           2848 non-null object\n",
      "collegeGPA               3000 non-null float64\n",
      "CollegeCityID            2843 non-null float64\n",
      "CollegeCityTier          3000 non-null int64\n",
      "CollegeState             3000 non-null object\n",
      "GraduationYear           3000 non-null int64\n",
      "English                  3000 non-null int64\n",
      "Logical                  3000 non-null int64\n",
      "Quant                    3000 non-null int64\n",
      "Domain                   3000 non-null float64\n",
      "ComputerProgramming      3000 non-null int64\n",
      "ElectronicsAndSemicon    3000 non-null int64\n",
      "ComputerScience          3000 non-null int64\n",
      "MechanicalEngg           3000 non-null int64\n",
      "ElectricalEngg           3000 non-null int64\n",
      "TelecomEngg              3000 non-null int64\n",
      "CivilEngg                3000 non-null int64\n",
      "conscientiousness        2749 non-null float64\n",
      "agreeableness            3000 non-null float64\n",
      "extraversion             3000 non-null float64\n",
      "nueroticism              2544 non-null float64\n",
      "openess_to_experience    3000 non-null float64\n",
      "dtypes: float64(11), int64(17), object(8)\n",
      "memory usage: 843.8+ KB\n"
     ]
    }
   ],
   "source": [
    "data.info()"
   ]
  },
  {
   "cell_type": "code",
   "execution_count": 4,
   "metadata": {},
   "outputs": [
    {
     "data": {
      "text/html": [
       "<div>\n",
       "<style scoped>\n",
       "    .dataframe tbody tr th:only-of-type {\n",
       "        vertical-align: middle;\n",
       "    }\n",
       "\n",
       "    .dataframe tbody tr th {\n",
       "        vertical-align: top;\n",
       "    }\n",
       "\n",
       "    .dataframe thead th {\n",
       "        text-align: right;\n",
       "    }\n",
       "</style>\n",
       "<table border=\"1\" class=\"dataframe\">\n",
       "  <thead>\n",
       "    <tr style=\"text-align: right;\">\n",
       "      <th></th>\n",
       "      <th>Unnamed: 0</th>\n",
       "      <th>ID</th>\n",
       "      <th>Salary</th>\n",
       "      <th>JobCity</th>\n",
       "      <th>Gender</th>\n",
       "      <th>DOB</th>\n",
       "      <th>10percentage</th>\n",
       "      <th>10board</th>\n",
       "      <th>12graduation</th>\n",
       "      <th>12percentage</th>\n",
       "      <th>...</th>\n",
       "      <th>ComputerScience</th>\n",
       "      <th>MechanicalEngg</th>\n",
       "      <th>ElectricalEngg</th>\n",
       "      <th>TelecomEngg</th>\n",
       "      <th>CivilEngg</th>\n",
       "      <th>conscientiousness</th>\n",
       "      <th>agreeableness</th>\n",
       "      <th>extraversion</th>\n",
       "      <th>nueroticism</th>\n",
       "      <th>openess_to_experience</th>\n",
       "    </tr>\n",
       "  </thead>\n",
       "  <tbody>\n",
       "    <tr>\n",
       "      <th>0</th>\n",
       "      <td>0</td>\n",
       "      <td>0</td>\n",
       "      <td>200000</td>\n",
       "      <td>Bangalore</td>\n",
       "      <td>m</td>\n",
       "      <td>1990-01-15</td>\n",
       "      <td>55.5</td>\n",
       "      <td>state board</td>\n",
       "      <td>2007.0</td>\n",
       "      <td>52.5</td>\n",
       "      <td>...</td>\n",
       "      <td>-1</td>\n",
       "      <td>-1</td>\n",
       "      <td>-1</td>\n",
       "      <td>-1</td>\n",
       "      <td>-1</td>\n",
       "      <td>NaN</td>\n",
       "      <td>-0.6201</td>\n",
       "      <td>-0.1437</td>\n",
       "      <td>0.9066</td>\n",
       "      <td>-1.6273</td>\n",
       "    </tr>\n",
       "    <tr>\n",
       "      <th>1</th>\n",
       "      <td>1</td>\n",
       "      <td>1</td>\n",
       "      <td>190000</td>\n",
       "      <td>Chennai</td>\n",
       "      <td>m</td>\n",
       "      <td>1990-11-02</td>\n",
       "      <td>83.0</td>\n",
       "      <td>state board</td>\n",
       "      <td>NaN</td>\n",
       "      <td>86.0</td>\n",
       "      <td>...</td>\n",
       "      <td>-1</td>\n",
       "      <td>-1</td>\n",
       "      <td>-1</td>\n",
       "      <td>313</td>\n",
       "      <td>-1</td>\n",
       "      <td>-0.159</td>\n",
       "      <td>0.8784</td>\n",
       "      <td>0.7785</td>\n",
       "      <td>0.1459</td>\n",
       "      <td>1.2470</td>\n",
       "    </tr>\n",
       "  </tbody>\n",
       "</table>\n",
       "<p>2 rows × 36 columns</p>\n",
       "</div>"
      ],
      "text/plain": [
       "   Unnamed: 0  ID  Salary    JobCity Gender         DOB  10percentage  \\\n",
       "0           0   0  200000  Bangalore      m  1990-01-15          55.5   \n",
       "1           1   1  190000    Chennai      m  1990-11-02          83.0   \n",
       "\n",
       "       10board  12graduation  12percentage  ... ComputerScience  \\\n",
       "0  state board        2007.0          52.5  ...              -1   \n",
       "1  state board           NaN          86.0  ...              -1   \n",
       "\n",
       "   MechanicalEngg  ElectricalEngg TelecomEngg CivilEngg  conscientiousness  \\\n",
       "0              -1              -1          -1        -1                NaN   \n",
       "1              -1              -1         313        -1             -0.159   \n",
       "\n",
       "   agreeableness  extraversion nueroticism  openess_to_experience  \n",
       "0        -0.6201       -0.1437      0.9066                -1.6273  \n",
       "1         0.8784        0.7785      0.1459                 1.2470  \n",
       "\n",
       "[2 rows x 36 columns]"
      ]
     },
     "execution_count": 4,
     "metadata": {},
     "output_type": "execute_result"
    }
   ],
   "source": [
    "data.head(2)"
   ]
  },
  {
   "cell_type": "code",
   "execution_count": 5,
   "metadata": {},
   "outputs": [
    {
     "data": {
      "text/html": [
       "<div>\n",
       "<style scoped>\n",
       "    .dataframe tbody tr th:only-of-type {\n",
       "        vertical-align: middle;\n",
       "    }\n",
       "\n",
       "    .dataframe tbody tr th {\n",
       "        vertical-align: top;\n",
       "    }\n",
       "\n",
       "    .dataframe thead th {\n",
       "        text-align: right;\n",
       "    }\n",
       "</style>\n",
       "<table border=\"1\" class=\"dataframe\">\n",
       "  <thead>\n",
       "    <tr style=\"text-align: right;\">\n",
       "      <th></th>\n",
       "      <th>Unnamed: 0</th>\n",
       "      <th>ID</th>\n",
       "      <th>Salary</th>\n",
       "      <th>10percentage</th>\n",
       "      <th>12graduation</th>\n",
       "      <th>12percentage</th>\n",
       "      <th>CollegeID</th>\n",
       "      <th>CollegeTier</th>\n",
       "      <th>collegeGPA</th>\n",
       "      <th>CollegeCityID</th>\n",
       "      <th>...</th>\n",
       "      <th>ComputerScience</th>\n",
       "      <th>MechanicalEngg</th>\n",
       "      <th>ElectricalEngg</th>\n",
       "      <th>TelecomEngg</th>\n",
       "      <th>CivilEngg</th>\n",
       "      <th>conscientiousness</th>\n",
       "      <th>agreeableness</th>\n",
       "      <th>extraversion</th>\n",
       "      <th>nueroticism</th>\n",
       "      <th>openess_to_experience</th>\n",
       "    </tr>\n",
       "  </thead>\n",
       "  <tbody>\n",
       "    <tr>\n",
       "      <th>count</th>\n",
       "      <td>3000.000000</td>\n",
       "      <td>3000.000000</td>\n",
       "      <td>3.000000e+03</td>\n",
       "      <td>2808.000000</td>\n",
       "      <td>2555.00000</td>\n",
       "      <td>3000.000000</td>\n",
       "      <td>3000.000000</td>\n",
       "      <td>3000.000000</td>\n",
       "      <td>3000.000000</td>\n",
       "      <td>2843.000000</td>\n",
       "      <td>...</td>\n",
       "      <td>3000.000000</td>\n",
       "      <td>3000.000000</td>\n",
       "      <td>3000.000000</td>\n",
       "      <td>3000.000000</td>\n",
       "      <td>3000.000000</td>\n",
       "      <td>2749.000000</td>\n",
       "      <td>3000.000000</td>\n",
       "      <td>3000.000000</td>\n",
       "      <td>2544.000000</td>\n",
       "      <td>3000.000000</td>\n",
       "    </tr>\n",
       "    <tr>\n",
       "      <th>mean</th>\n",
       "      <td>1499.500000</td>\n",
       "      <td>1499.500000</td>\n",
       "      <td>3.047547e+05</td>\n",
       "      <td>77.942372</td>\n",
       "      <td>2008.04227</td>\n",
       "      <td>74.361023</td>\n",
       "      <td>5159.306000</td>\n",
       "      <td>1.924000</td>\n",
       "      <td>71.450527</td>\n",
       "      <td>5159.454450</td>\n",
       "      <td>...</td>\n",
       "      <td>90.259667</td>\n",
       "      <td>23.375000</td>\n",
       "      <td>16.891000</td>\n",
       "      <td>33.513667</td>\n",
       "      <td>2.912333</td>\n",
       "      <td>-0.037404</td>\n",
       "      <td>0.135131</td>\n",
       "      <td>-0.012527</td>\n",
       "      <td>-0.180071</td>\n",
       "      <td>-0.144959</td>\n",
       "    </tr>\n",
       "    <tr>\n",
       "      <th>std</th>\n",
       "      <td>866.169729</td>\n",
       "      <td>866.169729</td>\n",
       "      <td>1.942179e+05</td>\n",
       "      <td>9.889565</td>\n",
       "      <td>1.66913</td>\n",
       "      <td>11.015802</td>\n",
       "      <td>4811.123897</td>\n",
       "      <td>0.265042</td>\n",
       "      <td>8.333218</td>\n",
       "      <td>4806.561458</td>\n",
       "      <td>...</td>\n",
       "      <td>175.596552</td>\n",
       "      <td>99.186291</td>\n",
       "      <td>88.637494</td>\n",
       "      <td>107.120876</td>\n",
       "      <td>37.788199</td>\n",
       "      <td>1.019984</td>\n",
       "      <td>0.943209</td>\n",
       "      <td>0.949379</td>\n",
       "      <td>0.993247</td>\n",
       "      <td>1.011006</td>\n",
       "    </tr>\n",
       "    <tr>\n",
       "      <th>min</th>\n",
       "      <td>0.000000</td>\n",
       "      <td>0.000000</td>\n",
       "      <td>3.500000e+04</td>\n",
       "      <td>43.000000</td>\n",
       "      <td>1995.00000</td>\n",
       "      <td>40.000000</td>\n",
       "      <td>11.000000</td>\n",
       "      <td>1.000000</td>\n",
       "      <td>6.450000</td>\n",
       "      <td>11.000000</td>\n",
       "      <td>...</td>\n",
       "      <td>-1.000000</td>\n",
       "      <td>-1.000000</td>\n",
       "      <td>-1.000000</td>\n",
       "      <td>-1.000000</td>\n",
       "      <td>-1.000000</td>\n",
       "      <td>-4.036900</td>\n",
       "      <td>-5.781600</td>\n",
       "      <td>-4.600900</td>\n",
       "      <td>-2.643000</td>\n",
       "      <td>-6.992500</td>\n",
       "    </tr>\n",
       "    <tr>\n",
       "      <th>25%</th>\n",
       "      <td>749.750000</td>\n",
       "      <td>749.750000</td>\n",
       "      <td>1.800000e+05</td>\n",
       "      <td>71.575000</td>\n",
       "      <td>2007.00000</td>\n",
       "      <td>66.000000</td>\n",
       "      <td>515.500000</td>\n",
       "      <td>2.000000</td>\n",
       "      <td>66.397500</td>\n",
       "      <td>519.000000</td>\n",
       "      <td>...</td>\n",
       "      <td>-1.000000</td>\n",
       "      <td>-1.000000</td>\n",
       "      <td>-1.000000</td>\n",
       "      <td>-1.000000</td>\n",
       "      <td>-1.000000</td>\n",
       "      <td>-0.589900</td>\n",
       "      <td>-0.294900</td>\n",
       "      <td>-0.604800</td>\n",
       "      <td>-0.868200</td>\n",
       "      <td>-0.669200</td>\n",
       "    </tr>\n",
       "    <tr>\n",
       "      <th>50%</th>\n",
       "      <td>1499.500000</td>\n",
       "      <td>1499.500000</td>\n",
       "      <td>3.000000e+05</td>\n",
       "      <td>79.330000</td>\n",
       "      <td>2008.00000</td>\n",
       "      <td>74.200000</td>\n",
       "      <td>3802.000000</td>\n",
       "      <td>2.000000</td>\n",
       "      <td>71.595000</td>\n",
       "      <td>3802.000000</td>\n",
       "      <td>...</td>\n",
       "      <td>-1.000000</td>\n",
       "      <td>-1.000000</td>\n",
       "      <td>-1.000000</td>\n",
       "      <td>-1.000000</td>\n",
       "      <td>-1.000000</td>\n",
       "      <td>0.046400</td>\n",
       "      <td>0.212400</td>\n",
       "      <td>0.055200</td>\n",
       "      <td>-0.234400</td>\n",
       "      <td>-0.094300</td>\n",
       "    </tr>\n",
       "    <tr>\n",
       "      <th>75%</th>\n",
       "      <td>2249.250000</td>\n",
       "      <td>2249.250000</td>\n",
       "      <td>3.700000e+05</td>\n",
       "      <td>85.670000</td>\n",
       "      <td>2009.00000</td>\n",
       "      <td>82.400000</td>\n",
       "      <td>8818.000000</td>\n",
       "      <td>2.000000</td>\n",
       "      <td>76.400000</td>\n",
       "      <td>8818.000000</td>\n",
       "      <td>...</td>\n",
       "      <td>-1.000000</td>\n",
       "      <td>-1.000000</td>\n",
       "      <td>-1.000000</td>\n",
       "      <td>-1.000000</td>\n",
       "      <td>-1.000000</td>\n",
       "      <td>0.702700</td>\n",
       "      <td>0.812800</td>\n",
       "      <td>0.624800</td>\n",
       "      <td>0.526200</td>\n",
       "      <td>0.502400</td>\n",
       "    </tr>\n",
       "    <tr>\n",
       "      <th>max</th>\n",
       "      <td>2999.000000</td>\n",
       "      <td>2999.000000</td>\n",
       "      <td>3.500000e+06</td>\n",
       "      <td>97.760000</td>\n",
       "      <td>2013.00000</td>\n",
       "      <td>98.700000</td>\n",
       "      <td>18409.000000</td>\n",
       "      <td>2.000000</td>\n",
       "      <td>99.930000</td>\n",
       "      <td>18409.000000</td>\n",
       "      <td>...</td>\n",
       "      <td>715.000000</td>\n",
       "      <td>623.000000</td>\n",
       "      <td>676.000000</td>\n",
       "      <td>548.000000</td>\n",
       "      <td>516.000000</td>\n",
       "      <td>1.995300</td>\n",
       "      <td>1.904800</td>\n",
       "      <td>2.535400</td>\n",
       "      <td>3.315200</td>\n",
       "      <td>1.630200</td>\n",
       "    </tr>\n",
       "  </tbody>\n",
       "</table>\n",
       "<p>8 rows × 28 columns</p>\n",
       "</div>"
      ],
      "text/plain": [
       "        Unnamed: 0           ID        Salary  10percentage  12graduation  \\\n",
       "count  3000.000000  3000.000000  3.000000e+03   2808.000000    2555.00000   \n",
       "mean   1499.500000  1499.500000  3.047547e+05     77.942372    2008.04227   \n",
       "std     866.169729   866.169729  1.942179e+05      9.889565       1.66913   \n",
       "min       0.000000     0.000000  3.500000e+04     43.000000    1995.00000   \n",
       "25%     749.750000   749.750000  1.800000e+05     71.575000    2007.00000   \n",
       "50%    1499.500000  1499.500000  3.000000e+05     79.330000    2008.00000   \n",
       "75%    2249.250000  2249.250000  3.700000e+05     85.670000    2009.00000   \n",
       "max    2999.000000  2999.000000  3.500000e+06     97.760000    2013.00000   \n",
       "\n",
       "       12percentage     CollegeID  CollegeTier   collegeGPA  CollegeCityID  \\\n",
       "count   3000.000000   3000.000000  3000.000000  3000.000000    2843.000000   \n",
       "mean      74.361023   5159.306000     1.924000    71.450527    5159.454450   \n",
       "std       11.015802   4811.123897     0.265042     8.333218    4806.561458   \n",
       "min       40.000000     11.000000     1.000000     6.450000      11.000000   \n",
       "25%       66.000000    515.500000     2.000000    66.397500     519.000000   \n",
       "50%       74.200000   3802.000000     2.000000    71.595000    3802.000000   \n",
       "75%       82.400000   8818.000000     2.000000    76.400000    8818.000000   \n",
       "max       98.700000  18409.000000     2.000000    99.930000   18409.000000   \n",
       "\n",
       "       ...  ComputerScience  MechanicalEngg  ElectricalEngg  TelecomEngg  \\\n",
       "count  ...      3000.000000     3000.000000     3000.000000  3000.000000   \n",
       "mean   ...        90.259667       23.375000       16.891000    33.513667   \n",
       "std    ...       175.596552       99.186291       88.637494   107.120876   \n",
       "min    ...        -1.000000       -1.000000       -1.000000    -1.000000   \n",
       "25%    ...        -1.000000       -1.000000       -1.000000    -1.000000   \n",
       "50%    ...        -1.000000       -1.000000       -1.000000    -1.000000   \n",
       "75%    ...        -1.000000       -1.000000       -1.000000    -1.000000   \n",
       "max    ...       715.000000      623.000000      676.000000   548.000000   \n",
       "\n",
       "         CivilEngg  conscientiousness  agreeableness  extraversion  \\\n",
       "count  3000.000000        2749.000000    3000.000000   3000.000000   \n",
       "mean      2.912333          -0.037404       0.135131     -0.012527   \n",
       "std      37.788199           1.019984       0.943209      0.949379   \n",
       "min      -1.000000          -4.036900      -5.781600     -4.600900   \n",
       "25%      -1.000000          -0.589900      -0.294900     -0.604800   \n",
       "50%      -1.000000           0.046400       0.212400      0.055200   \n",
       "75%      -1.000000           0.702700       0.812800      0.624800   \n",
       "max     516.000000           1.995300       1.904800      2.535400   \n",
       "\n",
       "       nueroticism  openess_to_experience  \n",
       "count  2544.000000            3000.000000  \n",
       "mean     -0.180071              -0.144959  \n",
       "std       0.993247               1.011006  \n",
       "min      -2.643000              -6.992500  \n",
       "25%      -0.868200              -0.669200  \n",
       "50%      -0.234400              -0.094300  \n",
       "75%       0.526200               0.502400  \n",
       "max       3.315200               1.630200  \n",
       "\n",
       "[8 rows x 28 columns]"
      ]
     },
     "execution_count": 5,
     "metadata": {},
     "output_type": "execute_result"
    }
   ],
   "source": [
    "data.describe()"
   ]
  },
  {
   "cell_type": "code",
   "execution_count": 6,
   "metadata": {},
   "outputs": [],
   "source": [
    "data['Domain'].replace(-1, 0, inplace = True)"
   ]
  },
  {
   "cell_type": "code",
   "execution_count": 7,
   "metadata": {},
   "outputs": [],
   "source": [
    "data['ComputerProgramming'].replace(-1, 0, inplace = True)"
   ]
  },
  {
   "cell_type": "code",
   "execution_count": 8,
   "metadata": {},
   "outputs": [],
   "source": [
    "data['ElectronicsAndSemicon'].replace(-1, 0, inplace = True)"
   ]
  },
  {
   "cell_type": "code",
   "execution_count": 9,
   "metadata": {},
   "outputs": [],
   "source": [
    "data['ComputerScience'].replace(-1, 0, inplace = True)"
   ]
  },
  {
   "cell_type": "code",
   "execution_count": 10,
   "metadata": {},
   "outputs": [],
   "source": [
    "data['MechanicalEngg'].replace(-1, 0, inplace = True)"
   ]
  },
  {
   "cell_type": "code",
   "execution_count": 11,
   "metadata": {},
   "outputs": [],
   "source": [
    "data['ElectricalEngg'].replace(-1, 0, inplace = True)"
   ]
  },
  {
   "cell_type": "code",
   "execution_count": 12,
   "metadata": {},
   "outputs": [],
   "source": [
    "data['TelecomEngg'].replace(-1, 0, inplace = True)"
   ]
  },
  {
   "cell_type": "code",
   "execution_count": 13,
   "metadata": {},
   "outputs": [],
   "source": [
    "data['CivilEngg'].replace(-1, 0, inplace = True)"
   ]
  },
  {
   "cell_type": "code",
   "execution_count": 14,
   "metadata": {},
   "outputs": [],
   "source": [
    "data['10percentage'].fillna(data['10percentage'].mean(), inplace = True)"
   ]
  },
  {
   "cell_type": "code",
   "execution_count": 15,
   "metadata": {},
   "outputs": [],
   "source": [
    "data['conscientiousness'].fillna(data['conscientiousness'].mean(), inplace = True)"
   ]
  },
  {
   "cell_type": "code",
   "execution_count": 16,
   "metadata": {},
   "outputs": [],
   "source": [
    "data['nueroticism'].fillna(data['nueroticism'].mean(), inplace = True)"
   ]
  },
  {
   "cell_type": "code",
   "execution_count": 17,
   "metadata": {},
   "outputs": [],
   "source": [
    "import seaborn as sns"
   ]
  },
  {
   "cell_type": "code",
   "execution_count": 18,
   "metadata": {},
   "outputs": [
    {
     "data": {
      "image/png": "[encoded data removed]",
      "text/plain": [
       "<Figure size 225.625x180 with 1 Axes>"
      ]
     },
     "metadata": {
      "needs_background": "light"
     },
     "output_type": "display_data"
    }
   ],
   "source": [
    "g = sns.pairplot(data, x_vars = ['Domain'], y_vars = ['Salary'], hue = 'Gender')"
   ]
  },
  {
   "cell_type": "code",
   "execution_count": 19,
   "metadata": {},
   "outputs": [
    {
     "data": {
      "text/plain": [
       "<seaborn.axisgrid.PairGrid at 0x7fc738163eb8>"
      ]
     },
     "execution_count": 19,
     "metadata": {},
     "output_type": "execute_result"
    },
    {
     "data": {
      "image/png": "[encoded data removed]",
      "text/plain": [
       "<Figure size 1305.62x180 with 7 Axes>"
      ]
     },
     "metadata": {
      "needs_background": "light"
     },
     "output_type": "display_data"
    }
   ],
   "source": [
    "sns.pairplot(data, x_vars = ['ComputerProgramming', 'ElectronicsAndSemicon', 'ComputerScience', 'MechanicalEngg', 'ElectricalEngg', 'TelecomEngg', 'CivilEngg'], y_vars = ['Salary'], hue = 'Gender')"
   ]
  },
  {
   "cell_type": "code",
   "execution_count": 20,
   "metadata": {},
   "outputs": [
    {
     "data": {
      "text/plain": [
       "<seaborn.axisgrid.PairGrid at 0x7fc737edd470>"
      ]
     },
     "execution_count": 20,
     "metadata": {},
     "output_type": "execute_result"
    },
    {
     "data": {
      "image/png": "[encoded data removed]",
      "text/plain": [
       "<Figure size 945.625x180 with 5 Axes>"
      ]
     },
     "metadata": {
      "needs_background": "light"
     },
     "output_type": "display_data"
    }
   ],
   "source": [
    "sns.pairplot(data, x_vars = ['conscientiousness', 'agreeableness', 'extraversion', 'nueroticism', 'openess_to_experience'], y_vars = ['Salary'], hue = 'Gender')"
   ]
  },
  {
   "cell_type": "code",
   "execution_count": 24,
   "metadata": {},
   "outputs": [
    {
     "name": "stdout",
     "output_type": "stream",
     "text": [
      "<class 'pandas.core.frame.DataFrame'>\n",
      "RangeIndex: 3000 entries, 0 to 2999\n",
      "Data columns (total 36 columns):\n",
      "Unnamed: 0               3000 non-null int64\n",
      "ID                       3000 non-null int64\n",
      "Salary                   3000 non-null int64\n",
      "JobCity                  3000 non-null object\n",
      "Gender                   3000 non-null object\n",
      "DOB                      3000 non-null object\n",
      "10percentage             3000 non-null float64\n",
      "10board                  3000 non-null object\n",
      "12graduation             2555 non-null float64\n",
      "12percentage             3000 non-null float64\n",
      "12board                  3000 non-null object\n",
      "CollegeID                3000 non-null int64\n",
      "CollegeTier              3000 non-null int64\n",
      "Degree                   3000 non-null object\n",
      "Specialization           2848 non-null object\n",
      "collegeGPA               3000 non-null float64\n",
      "CollegeCityID            2843 non-null float64\n",
      "CollegeCityTier          3000 non-null int64\n",
      "CollegeState             3000 non-null object\n",
      "GraduationYear           3000 non-null int64\n",
      "English                  3000 non-null int64\n",
      "Logical                  3000 non-null int64\n",
      "Quant                    3000 non-null int64\n",
      "Domain                   3000 non-null float64\n",
      "ComputerProgramming      3000 non-null int64\n",
      "ElectronicsAndSemicon    3000 non-null int64\n",
      "ComputerScience          3000 non-null int64\n",
      "MechanicalEngg           3000 non-null int64\n",
      "ElectricalEngg           3000 non-null int64\n",
      "TelecomEngg              3000 non-null int64\n",
      "CivilEngg                3000 non-null int64\n",
      "conscientiousness        3000 non-null float64\n",
      "agreeableness            3000 non-null float64\n",
      "extraversion             3000 non-null float64\n",
      "nueroticism              3000 non-null float64\n",
      "openess_to_experience    3000 non-null float64\n",
      "dtypes: float64(11), int64(17), object(8)\n",
      "memory usage: 843.8+ KB\n"
     ]
    }
   ],
   "source": [
    "data.info()"
   ]
  },
  {
   "cell_type": "code",
   "execution_count": null,
   "metadata": {},
   "outputs": [],
   "source": []
  }
 ],
 "metadata": {
  "kernelspec": {
   "display_name": "Python 3",
   "language": "python",
   "name": "python3"
  },
  "language_info": {
   "codemirror_mode": {
    "name": "ipython",
    "version": 3
   },
   "file_extension": ".py",
   "mimetype": "text/x-python",
   "name": "python",
   "nbconvert_exporter": "python",
   "pygments_lexer": "ipython3",
   "version": "3.6.8"
  }
 },
 "nbformat": 4,
 "nbformat_minor": 2
}
