{
 "cells": [
  {
   "cell_type": "code",
   "execution_count": 1,
   "metadata": {},
   "outputs": [],
   "source": [
    "import numpy as np\n",
    "import pandas as pd\n",
    "import matplotlib.pyplot as plt\n",
    "%matplotlib inline"
   ]
  },
  {
   "cell_type": "code",
   "execution_count": 2,
   "metadata": {
    "scrolled": true
   },
   "outputs": [
    {
     "name": "stdout",
     "output_type": "stream",
     "text": [
      "<class 'pandas.core.frame.DataFrame'>\n",
      "RangeIndex: 118 entries, 0 to 117\n",
      "Data columns (total 3 columns):\n",
      "x1          118 non-null float64\n",
      "x2          118 non-null float64\n",
      "released    118 non-null int64\n",
      "dtypes: float64(2), int64(1)\n",
      "memory usage: 2.8 KB\n"
     ]
    }
   ],
   "source": [
    "data = pd.read_csv('microchip_tests.txt', header = None, names = ('x1', 'x2', 'released'))\n",
    "\n",
    "data.info()"
   ]
  },
  {
   "cell_type": "code",
   "execution_count": 3,
   "metadata": {},
   "outputs": [
    {
     "data": {
      "text/html": [
       "<div>\n",
       "<style scoped>\n",
       "    .dataframe tbody tr th:only-of-type {\n",
       "        vertical-align: middle;\n",
       "    }\n",
       "\n",
       "    .dataframe tbody tr th {\n",
       "        vertical-align: top;\n",
       "    }\n",
       "\n",
       "    .dataframe thead th {\n",
       "        text-align: right;\n",
       "    }\n",
       "</style>\n",
       "<table border=\"1\" class=\"dataframe\">\n",
       "  <thead>\n",
       "    <tr style=\"text-align: right;\">\n",
       "      <th></th>\n",
       "      <th>x1</th>\n",
       "      <th>x2</th>\n",
       "      <th>released</th>\n",
       "      <th>x1_2</th>\n",
       "      <th>x2_2</th>\n",
       "      <th>x1x2</th>\n",
       "      <th>x1_3</th>\n",
       "      <th>x2_3</th>\n",
       "      <th>x1_2x2</th>\n",
       "      <th>x1x2_2</th>\n",
       "    </tr>\n",
       "  </thead>\n",
       "  <tbody>\n",
       "    <tr>\n",
       "      <th>0</th>\n",
       "      <td>0.051267</td>\n",
       "      <td>0.69956</td>\n",
       "      <td>1</td>\n",
       "      <td>0.002628</td>\n",
       "      <td>0.489384</td>\n",
       "      <td>0.035864</td>\n",
       "      <td>0.000135</td>\n",
       "      <td>0.342354</td>\n",
       "      <td>0.001839</td>\n",
       "      <td>0.025089</td>\n",
       "    </tr>\n",
       "    <tr>\n",
       "      <th>1</th>\n",
       "      <td>-0.092742</td>\n",
       "      <td>0.68494</td>\n",
       "      <td>1</td>\n",
       "      <td>0.008601</td>\n",
       "      <td>0.469143</td>\n",
       "      <td>-0.063523</td>\n",
       "      <td>-0.000798</td>\n",
       "      <td>0.321335</td>\n",
       "      <td>0.005891</td>\n",
       "      <td>-0.043509</td>\n",
       "    </tr>\n",
       "    <tr>\n",
       "      <th>2</th>\n",
       "      <td>-0.213710</td>\n",
       "      <td>0.69225</td>\n",
       "      <td>1</td>\n",
       "      <td>0.045672</td>\n",
       "      <td>0.479210</td>\n",
       "      <td>-0.147941</td>\n",
       "      <td>-0.009761</td>\n",
       "      <td>0.331733</td>\n",
       "      <td>0.031616</td>\n",
       "      <td>-0.102412</td>\n",
       "    </tr>\n",
       "    <tr>\n",
       "      <th>3</th>\n",
       "      <td>-0.375000</td>\n",
       "      <td>0.50219</td>\n",
       "      <td>1</td>\n",
       "      <td>0.140625</td>\n",
       "      <td>0.252195</td>\n",
       "      <td>-0.188321</td>\n",
       "      <td>-0.052734</td>\n",
       "      <td>0.126650</td>\n",
       "      <td>0.070620</td>\n",
       "      <td>-0.094573</td>\n",
       "    </tr>\n",
       "    <tr>\n",
       "      <th>4</th>\n",
       "      <td>-0.513250</td>\n",
       "      <td>0.46564</td>\n",
       "      <td>1</td>\n",
       "      <td>0.263426</td>\n",
       "      <td>0.216821</td>\n",
       "      <td>-0.238990</td>\n",
       "      <td>-0.135203</td>\n",
       "      <td>0.100960</td>\n",
       "      <td>0.122661</td>\n",
       "      <td>-0.111283</td>\n",
       "    </tr>\n",
       "  </tbody>\n",
       "</table>\n",
       "</div>"
      ],
      "text/plain": [
       "         x1       x2  released      x1_2      x2_2      x1x2      x1_3  \\\n",
       "0  0.051267  0.69956         1  0.002628  0.489384  0.035864  0.000135   \n",
       "1 -0.092742  0.68494         1  0.008601  0.469143 -0.063523 -0.000798   \n",
       "2 -0.213710  0.69225         1  0.045672  0.479210 -0.147941 -0.009761   \n",
       "3 -0.375000  0.50219         1  0.140625  0.252195 -0.188321 -0.052734   \n",
       "4 -0.513250  0.46564         1  0.263426  0.216821 -0.238990 -0.135203   \n",
       "\n",
       "       x2_3    x1_2x2    x1x2_2  \n",
       "0  0.342354  0.001839  0.025089  \n",
       "1  0.321335  0.005891 -0.043509  \n",
       "2  0.331733  0.031616 -0.102412  \n",
       "3  0.126650  0.070620 -0.094573  \n",
       "4  0.100960  0.122661 -0.111283  "
      ]
     },
     "execution_count": 3,
     "metadata": {},
     "output_type": "execute_result"
    }
   ],
   "source": [
    "m = len(data['x1'])\n",
    "\n",
    "data['x1_2'] = data['x1'] ** 2\n",
    "data['x2_2'] = data['x2'] ** 2\n",
    "data['x1x2'] = data['x1'] * data['x2']\n",
    "data['x1_3'] = data['x1'] ** 3\n",
    "data['x2_3'] = data['x2'] ** 3\n",
    "data['x1_2x2'] = (data['x1'] ** 2) * data['x2']\n",
    "data['x1x2_2'] = data['x1'] * (data['x2'] ** 2)\n",
    "\n",
    "data.head()"
   ]
  },
  {
   "cell_type": "code",
   "execution_count": 4,
   "metadata": {},
   "outputs": [],
   "source": [
    "n = len(data.columns) - 1\n",
    "\n",
    "X = data.drop(['released'], axis=1).to_numpy().reshape((m, n))\n",
    "y = data['released'].to_numpy().reshape((m, 1))"
   ]
  },
  {
   "cell_type": "code",
   "execution_count": 5,
   "metadata": {},
   "outputs": [
    {
     "data": {
      "text/plain": [
       "<matplotlib.collections.PathCollection at 0x7fb94c8d6d68>"
      ]
     },
     "execution_count": 5,
     "metadata": {},
     "output_type": "execute_result"
    },
    {
     "data": {
      "image/png": "[encoded data removed]",
      "text/plain": [
       "<Figure size 432x288 with 1 Axes>"
      ]
     },
     "metadata": {
      "needs_background": "light"
     },
     "output_type": "display_data"
    }
   ],
   "source": [
    "plt.scatter(X[np.ravel(y) == 1, 0], X[np.ravel(y) == 1, 1], c='blue')\n",
    "plt.scatter(X[np.ravel(y) == 0, 0], X[np.ravel(y) == 0, 1], c='orange')"
   ]
  },
  {
   "cell_type": "code",
   "execution_count": 6,
   "metadata": {},
   "outputs": [
    {
     "data": {
      "text/plain": [
       "(118, 10)"
      ]
     },
     "execution_count": 6,
     "metadata": {},
     "output_type": "execute_result"
    }
   ],
   "source": [
    "ones = np.ones((m, 1))\n",
    "\n",
    "X = np.concatenate((ones, X), axis = 1)\n",
    "\n",
    "X.shape"
   ]
  },
  {
   "cell_type": "code",
   "execution_count": 7,
   "metadata": {},
   "outputs": [],
   "source": [
    "def train_test_split(X, y, s = 0.3):\n",
    "    assert(X.shape[0] == y.shape[0])\n",
    "    m = X.shape[0]\n",
    "    val = int(m - m * s)\n",
    "    \n",
    "    indices = np.arange(m)\n",
    "    np.random.shuffle(indices)\n",
    "\n",
    "    A = X[indices]\n",
    "    B = y[indices]\n",
    "    \n",
    "    X_train = A[:val + 1]\n",
    "    y_train = B[:val + 1]\n",
    "    \n",
    "    X_test = A[val + 1:]\n",
    "    y_test = B[val + 1:]\n",
    "    \n",
    "    return X_train, y_train, X_test, y_test"
   ]
  },
  {
   "cell_type": "code",
   "execution_count": 8,
   "metadata": {},
   "outputs": [],
   "source": [
    "X_train, y_train, X_test, y_test = train_test_split(X, y)"
   ]
  },
  {
   "cell_type": "code",
   "execution_count": 9,
   "metadata": {},
   "outputs": [],
   "source": [
    "def sigmoid(x):\n",
    "    return 1.0 / (1.0 + np.exp(-x))"
   ]
  },
  {
   "cell_type": "code",
   "execution_count": 10,
   "metadata": {},
   "outputs": [],
   "source": [
    "def hyp(theta, X):\n",
    "    h = sigmoid(X @ theta)\n",
    "    \n",
    "    return h"
   ]
  },
  {
   "cell_type": "code",
   "execution_count": 11,
   "metadata": {},
   "outputs": [],
   "source": [
    "def cost(theta, X, y, m, l):\n",
    "    J = -1 * np.sum(y.T @ np.log(hyp(theta, X)) + (1 - y).T @ np.log(1 - hyp(theta, X))) / m\n",
    "    J += (l / (2 * m)) * np.sum(np.square(theta[1:]))\n",
    "    return J"
   ]
  },
  {
   "cell_type": "code",
   "execution_count": 42,
   "metadata": {},
   "outputs": [],
   "source": [
    "def train_model(theta, X, y, m, l = 0.1, alpha = 0.3):\n",
    "    J = []\n",
    "    cost0 = cost(theta, X, y, m, l)\n",
    "    J.append(cost0)\n",
    "    for i in range(1000):\n",
    "        delta = X.T @ (hyp(theta, X) - y) / m\n",
    "        temp = theta\n",
    "        theta = theta - alpha * delta\n",
    "        theta[1:] -= (alpha / m) * l * temp[1:]\n",
    "        \n",
    "        cost1 = cost(theta, X, y, m, l)\n",
    "        J.append(cost1)\n",
    "        if cost1 == 0 or cost1 > cost0:\n",
    "            print(i)\n",
    "            break\n",
    "        cost0 = cost1\n",
    "    \n",
    "    return J, theta"
   ]
  },
  {
   "cell_type": "code",
   "execution_count": 43,
   "metadata": {},
   "outputs": [],
   "source": [
    "def pred(theta, X):\n",
    "    h = hyp(theta, X)\n",
    "    h[h >= 0.5] = 1.0\n",
    "    h[h < 0.5] = 0.0\n",
    "    \n",
    "    return h"
   ]
  },
  {
   "cell_type": "code",
   "execution_count": 44,
   "metadata": {},
   "outputs": [
    {
     "data": {
      "text/plain": [
       "array([[ 2.39656004],\n",
       "       [ 1.28339528],\n",
       "       [ 2.43167657],\n",
       "       [-5.65630073],\n",
       "       [-4.57074287],\n",
       "       [-2.3984416 ],\n",
       "       [-0.23979004],\n",
       "       [-1.77858255],\n",
       "       [-0.6799303 ],\n",
       "       [-0.47857936]])"
      ]
     },
     "execution_count": 44,
     "metadata": {},
     "output_type": "execute_result"
    }
   ],
   "source": [
    "theta = np.ones((X.shape[1], 1))\n",
    "m = X_train.shape[0]\n",
    "J, theta = train_model(theta, X_train, y_train, m)\n",
    "\n",
    "theta"
   ]
  },
  {
   "cell_type": "code",
   "execution_count": 45,
   "metadata": {},
   "outputs": [
    {
     "data": {
      "text/plain": [
       "[<matplotlib.lines.Line2D at 0x7fb94c013e48>]"
      ]
     },
     "execution_count": 45,
     "metadata": {},
     "output_type": "execute_result"
    },
    {
     "data": {
      "image/png": "[encoded data removed]",
      "text/plain": [
       "<Figure size 432x288 with 1 Axes>"
      ]
     },
     "metadata": {
      "needs_background": "light"
     },
     "output_type": "display_data"
    }
   ],
   "source": [
    "plt.plot(J)"
   ]
  },
  {
   "cell_type": "code",
   "execution_count": 49,
   "metadata": {},
   "outputs": [
    {
     "data": {
      "text/plain": [
       "0.7714285714285715"
      ]
     },
     "execution_count": 49,
     "metadata": {},
     "output_type": "execute_result"
    }
   ],
   "source": [
    "y_pred = pred(theta, X_test)\n",
    "accuracy = 0\n",
    "n = X_test.shape[0]\n",
    "\n",
    "for i in range(n):\n",
    "    if y_pred[i] == y_test[i]:\n",
    "        accuracy += 1\n",
    "\n",
    "accuracy /= n\n",
    "accuracy"
   ]
  },
  {
   "cell_type": "code",
   "execution_count": 47,
   "metadata": {},
   "outputs": [],
   "source": [
    "xx = []\n",
    "yy = []\n",
    "\n",
    "xxxxx = np.arange(-1.0, 1.2, 0.01)\n",
    "\n",
    "for i in xxxxx:\n",
    "    for j in xxxxx:\n",
    "        xx.append([i, j])\n",
    "        x_ = np.array([1.0, i, j, i ** 2, j ** 2, i * j, i ** 3, j ** 3, (i ** 2) * j, (i * j) ** 2])\n",
    "        y_ = sigmoid(x_ @ theta)\n",
    "        if y_ >= 0.5:\n",
    "            yy.append(1.0)\n",
    "        elif y_ < 0.5:\n",
    "            yy.append(0.0)\n",
    "\n",
    "xx = np.array(xx)\n",
    "yy = np.array(yy)"
   ]
  },
  {
   "cell_type": "code",
   "execution_count": 48,
   "metadata": {},
   "outputs": [
    {
     "data": {
      "text/plain": [
       "<matplotlib.collections.PathCollection at 0x7fb94c57e898>"
      ]
     },
     "execution_count": 48,
     "metadata": {},
     "output_type": "execute_result"
    },
    {
     "data": {
      "image/png": "[encoded data removed]",
      "text/plain": [
       "<Figure size 432x288 with 1 Axes>"
      ]
     },
     "metadata": {
      "needs_background": "light"
     },
     "output_type": "display_data"
    }
   ],
   "source": [
    "plt.scatter(xx[np.ravel(yy) == 1, 0], xx[np.ravel(yy) == 1, 1], c='lightgrey')\n",
    "plt.scatter(xx[np.ravel(yy) == 0, 0], xx[np.ravel(yy) == 0, 1], c='white')\n",
    "plt.scatter(X[np.ravel(y) == 1, 1], X[np.ravel(y) == 1, 2], c='blue')\n",
    "plt.scatter(X[np.ravel(y) == 0, 1], X[np.ravel(y) == 0, 2], c='orange')"
   ]
  },
  {
   "cell_type": "code",
   "execution_count": null,
   "metadata": {},
   "outputs": [],
   "source": []
  }
 ],
 "metadata": {
  "kernelspec": {
   "display_name": "Python 3",
   "language": "python",
   "name": "python3"
  },
  "language_info": {
   "codemirror_mode": {
    "name": "ipython",
    "version": 3
   },
   "file_extension": ".py",
   "mimetype": "text/x-python",
   "name": "python",
   "nbconvert_exporter": "python",
   "pygments_lexer": "ipython3",
   "version": "3.6.8"
  }
 },
 "nbformat": 4,
 "nbformat_minor": 2
}
