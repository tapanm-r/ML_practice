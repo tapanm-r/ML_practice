{
 "cells": [
  {
   "cell_type": "code",
   "execution_count": 1,
   "metadata": {},
   "outputs": [],
   "source": [
    "import numpy as np\n",
    "import pandas as pd\n",
    "import matplotlib.pyplot as plt\n",
    "%matplotlib inline"
   ]
  },
  {
   "cell_type": "code",
   "execution_count": 2,
   "metadata": {},
   "outputs": [
    {
     "name": "stdout",
     "output_type": "stream",
     "text": [
      "<class 'pandas.core.frame.DataFrame'>\n",
      "RangeIndex: 1000 entries, 0 to 999\n",
      "Data columns (total 10 columns):\n",
      "Daily Time Spent on Site    1000 non-null float64\n",
      "Age                         1000 non-null int64\n",
      "Area Income                 1000 non-null float64\n",
      "Daily Internet Usage        1000 non-null float64\n",
      "Ad Topic Line               1000 non-null object\n",
      "City                        1000 non-null object\n",
      "Male                        1000 non-null int64\n",
      "Country                     1000 non-null object\n",
      "Timestamp                   1000 non-null object\n",
      "Clicked on Ad               1000 non-null int64\n",
      "dtypes: float64(3), int64(3), object(4)\n",
      "memory usage: 78.2+ KB\n"
     ]
    }
   ],
   "source": [
    "data = pd.read_csv(\"advertising.csv\")\n",
    "\n",
    "data.info()"
   ]
  },
  {
   "cell_type": "code",
   "execution_count": 3,
   "metadata": {},
   "outputs": [
    {
     "data": {
      "text/html": [
       "<div>\n",
       "<style scoped>\n",
       "    .dataframe tbody tr th:only-of-type {\n",
       "        vertical-align: middle;\n",
       "    }\n",
       "\n",
       "    .dataframe tbody tr th {\n",
       "        vertical-align: top;\n",
       "    }\n",
       "\n",
       "    .dataframe thead th {\n",
       "        text-align: right;\n",
       "    }\n",
       "</style>\n",
       "<table border=\"1\" class=\"dataframe\">\n",
       "  <thead>\n",
       "    <tr style=\"text-align: right;\">\n",
       "      <th></th>\n",
       "      <th>Daily Time Spent on Site</th>\n",
       "      <th>Age</th>\n",
       "      <th>Area Income</th>\n",
       "      <th>Daily Internet Usage</th>\n",
       "      <th>Ad Topic Line</th>\n",
       "      <th>City</th>\n",
       "      <th>Male</th>\n",
       "      <th>Country</th>\n",
       "      <th>Timestamp</th>\n",
       "      <th>Clicked on Ad</th>\n",
       "    </tr>\n",
       "  </thead>\n",
       "  <tbody>\n",
       "    <tr>\n",
       "      <th>0</th>\n",
       "      <td>68.95</td>\n",
       "      <td>35</td>\n",
       "      <td>61833.90</td>\n",
       "      <td>256.09</td>\n",
       "      <td>Cloned 5thgeneration orchestration</td>\n",
       "      <td>Wrightburgh</td>\n",
       "      <td>0</td>\n",
       "      <td>Tunisia</td>\n",
       "      <td>2016-03-27 00:53:11</td>\n",
       "      <td>0</td>\n",
       "    </tr>\n",
       "    <tr>\n",
       "      <th>1</th>\n",
       "      <td>80.23</td>\n",
       "      <td>31</td>\n",
       "      <td>68441.85</td>\n",
       "      <td>193.77</td>\n",
       "      <td>Monitored national standardization</td>\n",
       "      <td>West Jodi</td>\n",
       "      <td>1</td>\n",
       "      <td>Nauru</td>\n",
       "      <td>2016-04-04 01:39:02</td>\n",
       "      <td>0</td>\n",
       "    </tr>\n",
       "    <tr>\n",
       "      <th>2</th>\n",
       "      <td>69.47</td>\n",
       "      <td>26</td>\n",
       "      <td>59785.94</td>\n",
       "      <td>236.50</td>\n",
       "      <td>Organic bottom-line service-desk</td>\n",
       "      <td>Davidton</td>\n",
       "      <td>0</td>\n",
       "      <td>San Marino</td>\n",
       "      <td>2016-03-13 20:35:42</td>\n",
       "      <td>0</td>\n",
       "    </tr>\n",
       "    <tr>\n",
       "      <th>3</th>\n",
       "      <td>74.15</td>\n",
       "      <td>29</td>\n",
       "      <td>54806.18</td>\n",
       "      <td>245.89</td>\n",
       "      <td>Triple-buffered reciprocal time-frame</td>\n",
       "      <td>West Terrifurt</td>\n",
       "      <td>1</td>\n",
       "      <td>Italy</td>\n",
       "      <td>2016-01-10 02:31:19</td>\n",
       "      <td>0</td>\n",
       "    </tr>\n",
       "    <tr>\n",
       "      <th>4</th>\n",
       "      <td>68.37</td>\n",
       "      <td>35</td>\n",
       "      <td>73889.99</td>\n",
       "      <td>225.58</td>\n",
       "      <td>Robust logistical utilization</td>\n",
       "      <td>South Manuel</td>\n",
       "      <td>0</td>\n",
       "      <td>Iceland</td>\n",
       "      <td>2016-06-03 03:36:18</td>\n",
       "      <td>0</td>\n",
       "    </tr>\n",
       "  </tbody>\n",
       "</table>\n",
       "</div>"
      ],
      "text/plain": [
       "   Daily Time Spent on Site  Age  Area Income  Daily Internet Usage  \\\n",
       "0                     68.95   35     61833.90                256.09   \n",
       "1                     80.23   31     68441.85                193.77   \n",
       "2                     69.47   26     59785.94                236.50   \n",
       "3                     74.15   29     54806.18                245.89   \n",
       "4                     68.37   35     73889.99                225.58   \n",
       "\n",
       "                           Ad Topic Line            City  Male     Country  \\\n",
       "0     Cloned 5thgeneration orchestration     Wrightburgh     0     Tunisia   \n",
       "1     Monitored national standardization       West Jodi     1       Nauru   \n",
       "2       Organic bottom-line service-desk        Davidton     0  San Marino   \n",
       "3  Triple-buffered reciprocal time-frame  West Terrifurt     1       Italy   \n",
       "4          Robust logistical utilization    South Manuel     0     Iceland   \n",
       "\n",
       "             Timestamp  Clicked on Ad  \n",
       "0  2016-03-27 00:53:11              0  \n",
       "1  2016-04-04 01:39:02              0  \n",
       "2  2016-03-13 20:35:42              0  \n",
       "3  2016-01-10 02:31:19              0  \n",
       "4  2016-06-03 03:36:18              0  "
      ]
     },
     "execution_count": 3,
     "metadata": {},
     "output_type": "execute_result"
    }
   ],
   "source": [
    "data.head()"
   ]
  },
  {
   "cell_type": "code",
   "execution_count": 4,
   "metadata": {},
   "outputs": [],
   "source": [
    "m = len(data)\n",
    "\n",
    "X = data.drop(['Ad Topic Line', 'City', 'Country', 'Timestamp', 'Clicked on Ad'], axis = 1).to_numpy()\n",
    "y = data['Clicked on Ad'].to_numpy().reshape((m, 1))"
   ]
  },
  {
   "cell_type": "code",
   "execution_count": 5,
   "metadata": {},
   "outputs": [],
   "source": [
    "n = len(X[0])\n",
    "\n",
    "for i in range(n - 1):\n",
    "    mean_x = np.mean(X[:][i])\n",
    "    std_x = np.std(X[:][i])\n",
    "    for j in range(m):\n",
    "        X[j][i] = (X[j][i] - mean_x) / std_x"
   ]
  },
  {
   "cell_type": "code",
   "execution_count": 6,
   "metadata": {},
   "outputs": [
    {
     "data": {
      "text/plain": [
       "(1000, 6)"
      ]
     },
     "execution_count": 6,
     "metadata": {},
     "output_type": "execute_result"
    }
   ],
   "source": [
    "ones = np.ones((m, 1))\n",
    "\n",
    "X = np.concatenate((ones, X), axis = 1)\n",
    "\n",
    "X.shape"
   ]
  },
  {
   "cell_type": "code",
   "execution_count": 7,
   "metadata": {},
   "outputs": [],
   "source": [
    "def train_test_split(X, y, s = 0.3):\n",
    "    assert(X.shape[0] == y.shape[0])\n",
    "    m = X.shape[0]\n",
    "    val = int(m - m * s)\n",
    "    \n",
    "    indices = np.arange(m)\n",
    "    np.random.shuffle(indices)\n",
    "\n",
    "    A = X[indices]\n",
    "    B = y[indices]\n",
    "    \n",
    "    X_train = A[:val + 1]\n",
    "    y_train = B[:val + 1]\n",
    "    \n",
    "    X_test = A[val + 1:]\n",
    "    y_test = B[val + 1:]\n",
    "    \n",
    "    return X_train, y_train, X_test, y_test"
   ]
  },
  {
   "cell_type": "code",
   "execution_count": 8,
   "metadata": {},
   "outputs": [],
   "source": [
    "X_train, y_train, X_test, y_test = train_test_split(X, y)"
   ]
  },
  {
   "cell_type": "code",
   "execution_count": 9,
   "metadata": {},
   "outputs": [],
   "source": [
    "def sigmoid(x):\n",
    "    return 1.0 / (1.0 + np.exp(-x))"
   ]
  },
  {
   "cell_type": "code",
   "execution_count": 10,
   "metadata": {},
   "outputs": [],
   "source": [
    "def sigmoid_der(x):\n",
    "    return sigmoid(x) * (1 - sigmoid(x))"
   ]
  },
  {
   "cell_type": "code",
   "execution_count": 11,
   "metadata": {},
   "outputs": [],
   "source": [
    "def forward(thetas, X):\n",
    "    a_s = []\n",
    "    z_s = []\n",
    "    a = X\n",
    "    a_s.append(a)\n",
    "    z_s.append(a)\n",
    "    for i in range(len(thetas)):\n",
    "#         print(a.shape, thetas.shape)\n",
    "        z = a @ thetas[i].T\n",
    "        a = sigmoid(z)\n",
    "        if i != len(thetas) - 1:\n",
    "            a = np.concatenate(([[1.0] for i in range(len(a))], a), axis = 1)\n",
    "        z_s.append(z)\n",
    "        a_s.append(a)\n",
    "    \n",
    "    return a_s, z_s"
   ]
  },
  {
   "cell_type": "code",
   "execution_count": 12,
   "metadata": {},
   "outputs": [],
   "source": [
    "def cost(thetas, X, y, m):\n",
    "    a_s, z_s = forward(thetas, X)\n",
    "    J = -1 * np.sum(y.T @ np.log(a_s[-1]) + (1 - y).T @ np.log(1 - a_s[-1])) / m\n",
    "    return J"
   ]
  },
  {
   "cell_type": "code",
   "execution_count": 13,
   "metadata": {},
   "outputs": [],
   "source": [
    "def backward(thetas, X, y, a_s, z_s):\n",
    "    D_s = []\n",
    "    \n",
    "    d = a_s[-1] - y\n",
    "    for i in range(len(thetas) - 1, -1, -1):\n",
    "        D = d.T @ a_s[i]\n",
    "        D_s.append(D)\n",
    "        \n",
    "        if i != 0:\n",
    "            z_der = sigmoid_der(z_s[i])\n",
    "            z_der = np.concatenate(([[1.0] for i in range(len(z_der))], z_der), axis = 1)\n",
    "            d = (d @ thetas[i]) * z_der\n",
    "            d = d[:, 1:]\n",
    "    \n",
    "    D_s = np.array(D_s[::-1])\n",
    "    return D_s"
   ]
  },
  {
   "cell_type": "code",
   "execution_count": 54,
   "metadata": {},
   "outputs": [],
   "source": [
    "def train_model(X, y, lr = 0.1):\n",
    "    m = X.shape[0]\n",
    "    thetas = def_thetas(X.shape[1], [7, 5, 3], 1)\n",
    "    \n",
    "    J = []\n",
    "    cost0 = cost(thetas, X, y, m)\n",
    "    J.append(cost0)\n",
    "    for i in range(10000):\n",
    "        a_s, z_s = forward(thetas, X)\n",
    "        D_s = backward(thetas, X, y, a_s, z_s)\n",
    "        thetas = thetas - lr * D_s / m\n",
    "        \n",
    "        cost1 = cost(thetas, X, y, m)\n",
    "        J.append(cost1)\n",
    "        if cost1 == 0 or cost1 > cost0:\n",
    "            thetas = thetas + lr * D_s / m\n",
    "            print(i)\n",
    "            break\n",
    "        cost0 = cost1\n",
    "    \n",
    "    return J, thetas"
   ]
  },
  {
   "cell_type": "code",
   "execution_count": 55,
   "metadata": {},
   "outputs": [],
   "source": [
    "def pred(thetas, X):\n",
    "    a_s, z_s = forward(thetas, X)\n",
    "    h = a_s[-1]\n",
    "    h[h >= 0.5] = 1.0\n",
    "    h[h < 0.5] = 0.0\n",
    "    \n",
    "    return h"
   ]
  },
  {
   "cell_type": "code",
   "execution_count": 56,
   "metadata": {},
   "outputs": [],
   "source": [
    "def def_thetas(inp, hid, out):\n",
    "    arr = []\n",
    "    arr.append(np.random.randn(hid[0], inp))\n",
    "    for i in range(len(hid) - 1):\n",
    "        arr.append(np.random.randn(hid[i + 1], hid[i] + 1))\n",
    "    \n",
    "    arr.append(np.random.randn(out, hid[-1] + 1))\n",
    "    return np.array(arr)"
   ]
  },
  {
   "cell_type": "code",
   "execution_count": 57,
   "metadata": {},
   "outputs": [
    {
     "data": {
      "text/plain": [
       "array([array([[ 0.73936834,  0.68463053, -0.28593656,  0.96303851, -0.00443041,\n",
       "         0.44105583],\n",
       "       [-0.63536251, -1.15984877,  0.41174954, -1.12413949,  0.40961863,\n",
       "        -0.55034287],\n",
       "       [ 0.04668898, -0.24443785, -0.86554454, -0.65694049, -0.77449624,\n",
       "         0.4436252 ],\n",
       "       [ 2.47182389, -0.93025419, -2.37501821, -0.58863242, -2.11372206,\n",
       "         0.09986882],\n",
       "       [-0.66977448, -0.12291735, -0.84688099, -1.55975746,  3.4260362 ,\n",
       "         0.16323539],\n",
       "       [-1.69160206, -0.3021714 ,  0.28712156,  1.87052915,  0.0663027 ,\n",
       "         0.40059935],\n",
       "       [-0.01209988,  0.63970613,  0.4839577 , -0.25382638, -0.41559666,\n",
       "        -1.54476965]]),\n",
       "       array([[-0.05145968,  0.10669051, -2.84997904, -1.40971729, -0.82342142,\n",
       "         0.52201483,  0.60826678,  0.64870799],\n",
       "       [ 1.45929897, -0.54276338,  0.20366422, -0.75139405,  0.53260629,\n",
       "         1.45832024,  2.61244856,  0.31059623],\n",
       "       [ 0.89640565,  0.13745101,  0.38569378,  1.53875628,  1.98819801,\n",
       "         1.27785471,  0.87644479, -1.07421355],\n",
       "       [-0.96418636,  0.43068725,  1.08841917,  0.95451273,  4.63916284,\n",
       "        -2.4574673 , -1.97130691,  0.60740899],\n",
       "       [-1.12377765,  1.68211705, -0.95632011,  0.20413301, -2.03987088,\n",
       "         1.09073506,  0.12729519, -0.82852705]]),\n",
       "       array([[-1.76677512,  0.33159288,  0.56877829,  0.23697568,  3.80536096,\n",
       "        -1.51649867],\n",
       "       [ 0.50292508, -1.65722016,  0.26212277, -0.70645152,  4.25336397,\n",
       "        -2.45803553],\n",
       "       [-0.06214211,  2.04516652, -0.43168553, -0.01549326, -2.30219461,\n",
       "         0.76434429]]),\n",
       "       array([[-1.44730038,  4.12873125,  5.58914032, -3.34820317]])],\n",
       "      dtype=object)"
      ]
     },
     "execution_count": 57,
     "metadata": {},
     "output_type": "execute_result"
    }
   ],
   "source": [
    "J, thetas = train_model(X_train, y_train)\n",
    "\n",
    "thetas"
   ]
  },
  {
   "cell_type": "code",
   "execution_count": 58,
   "metadata": {},
   "outputs": [
    {
     "data": {
      "text/plain": [
       "[<matplotlib.lines.Line2D at 0x7fcb5e930dd8>]"
      ]
     },
     "execution_count": 58,
     "metadata": {},
     "output_type": "execute_result"
    },
    {
     "data": {
      "image/png": "[encoded data removed]",
      "text/plain": [
       "<Figure size 432x288 with 1 Axes>"
      ]
     },
     "metadata": {
      "needs_background": "light"
     },
     "output_type": "display_data"
    }
   ],
   "source": [
    "plt.plot(J)"
   ]
  },
  {
   "cell_type": "code",
   "execution_count": 59,
   "metadata": {},
   "outputs": [
    {
     "data": {
      "text/plain": [
       "0.8996655518394648"
      ]
     },
     "execution_count": 59,
     "metadata": {},
     "output_type": "execute_result"
    }
   ],
   "source": [
    "y_pred = pred(thetas, X_test)\n",
    "accuracy = 0\n",
    "TP, TN, FP, FN = 0, 0, 0, 0\n",
    "n = X_test.shape[0]\n",
    "\n",
    "for i in range(n):\n",
    "    if y_pred[i] == y_test[i]:\n",
    "        if y_pred[i] == 1:\n",
    "            TP += 1\n",
    "        else:\n",
    "            TN += 1\n",
    "        accuracy += 1\n",
    "    else:\n",
    "        if y_pred[i] == 1:\n",
    "            FP += 1\n",
    "        else:\n",
    "            FN += 1\n",
    "\n",
    "accuracy /= n\n",
    "accuracy"
   ]
  },
  {
   "cell_type": "code",
   "execution_count": 60,
   "metadata": {},
   "outputs": [
    {
     "data": {
      "text/plain": [
       "0.9214285714285714"
      ]
     },
     "execution_count": 60,
     "metadata": {},
     "output_type": "execute_result"
    }
   ],
   "source": [
    "precision = TP / (TP + FP)\n",
    "precision"
   ]
  },
  {
   "cell_type": "code",
   "execution_count": 61,
   "metadata": {},
   "outputs": [
    {
     "data": {
      "text/plain": [
       "0.8716216216216216"
      ]
     },
     "execution_count": 61,
     "metadata": {},
     "output_type": "execute_result"
    }
   ],
   "source": [
    "recall = TP / (TP + FN)\n",
    "recall"
   ]
  },
  {
   "cell_type": "code",
   "execution_count": 62,
   "metadata": {},
   "outputs": [
    {
     "data": {
      "text/plain": [
       "0.8958333333333333"
      ]
     },
     "execution_count": 62,
     "metadata": {},
     "output_type": "execute_result"
    }
   ],
   "source": [
    "F1 = 2 * precision * recall / (precision + recall)\n",
    "F1"
   ]
  },
  {
   "cell_type": "code",
   "execution_count": 63,
   "metadata": {},
   "outputs": [
    {
     "data": {
      "text/plain": [
       "(129, 140, 11, 19)"
      ]
     },
     "execution_count": 63,
     "metadata": {},
     "output_type": "execute_result"
    }
   ],
   "source": [
    "TP, TN, FP, FN"
   ]
  },
  {
   "cell_type": "code",
   "execution_count": null,
   "metadata": {},
   "outputs": [],
   "source": []
  }
 ],
 "metadata": {
  "kernelspec": {
   "display_name": "Python 3",
   "language": "python",
   "name": "python3"
  },
  "language_info": {
   "codemirror_mode": {
    "name": "ipython",
    "version": 3
   },
   "file_extension": ".py",
   "mimetype": "text/x-python",
   "name": "python",
   "nbconvert_exporter": "python",
   "pygments_lexer": "ipython3",
   "version": "3.6.8"
  }
 },
 "nbformat": 4,
 "nbformat_minor": 2
}
